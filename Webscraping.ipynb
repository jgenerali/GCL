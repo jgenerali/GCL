{
  "nbformat": 4,
  "nbformat_minor": 0,
  "metadata": {
    "colab": {
      "name": "Webscraping.ipynb",
      "provenance": [],
      "authorship_tag": "ABX9TyP1kMO1s46REsl9px9nEMs9",
      "include_colab_link": true
    },
    "kernelspec": {
      "name": "python3",
      "display_name": "Python 3"
    },
    "language_info": {
      "name": "python"
    }
  },
  "cells": [
    {
      "cell_type": "markdown",
      "metadata": {
        "id": "view-in-github",
        "colab_type": "text"
      },
      "source": [
        "<a href=\"https://colab.research.google.com/github/jgenerali/GCL/blob/main/Webscraping.ipynb\" target=\"_parent\"><img src=\"https://colab.research.google.com/assets/colab-badge.svg\" alt=\"Open In Colab\"/></a>"
      ]
    },
    {
      "cell_type": "markdown",
      "metadata": {
        "id": "HWrHmw-RIbPt"
      },
      "source": [
        "#Web Scraping for Pricing"
      ]
    },
    {
      "cell_type": "markdown",
      "metadata": {
        "id": "if7JilmuJNDc"
      },
      "source": [
        "##Install Necessary Libraries\n",
        "\n",
        "```\n",
        "# This is not necesary if running on the Google Co Lab\n",
        "```\n",
        "\n"
      ]
    },
    {
      "cell_type": "code",
      "metadata": {
        "id": "1EBR42IyJflQ"
      },
      "source": [
        "#pip install requests\n",
        "#pip install numpy\n",
        "#pip install beautifulsoup4"
      ],
      "execution_count": 16,
      "outputs": []
    },
    {
      "cell_type": "markdown",
      "metadata": {
        "id": "3KX1dZLfLIaL"
      },
      "source": [
        "Main Code"
      ]
    },
    {
      "cell_type": "code",
      "metadata": {
        "id": "MFOXx1LlIUIY"
      },
      "source": [
        "import requests\n",
        "from bs4 import BeautifulSoup as bs"
      ],
      "execution_count": 15,
      "outputs": []
    },
    {
      "cell_type": "code",
      "metadata": {
        "id": "_-FO8DSyIqBG"
      },
      "source": [
        ""
      ],
      "execution_count": 8,
      "outputs": []
    }
  ]
}